{
 "cells": [
  {
   "cell_type": "code",
   "execution_count": 74,
   "metadata": {},
   "outputs": [],
   "source": [
    "import pandas as pd\n",
    "import numpy as np\n",
    "\n",
    "np.random.seed(500)"
   ]
  },
  {
   "cell_type": "code",
   "execution_count": 86,
   "metadata": {},
   "outputs": [],
   "source": [
    "# Data extraction configurations\n",
    "drug_occur_threshold = 5\n",
    "\n",
    "drug_unknown = 'UNKNOWN'\n",
    "\n",
    "ndc_code_filename = './data/ndc_codes_extracted.csv'\n",
    "\n",
    "### Threshold, Result Count\n",
    "#     10, 7511\n",
    "#     5, 8148\n",
    "#     2, 8710"
   ]
  },
  {
   "cell_type": "code",
   "execution_count": 87,
   "metadata": {},
   "outputs": [],
   "source": [
    "df = pd.read_csv('./data/PRESCRIPTIONS.csv', dtype=str)\n",
    "# df"
   ]
  },
  {
   "cell_type": "code",
   "execution_count": 88,
   "metadata": {},
   "outputs": [],
   "source": [
    "df_ndc_freq = df[['ROW_ID', 'NDC']].groupby('NDC').count().sort_values('ROW_ID', ascending=False)\n",
    "# df_ndc_freq"
   ]
  },
  {
   "cell_type": "code",
   "execution_count": 89,
   "metadata": {},
   "outputs": [],
   "source": [
    "df_ndc_freq = df_ndc_freq.reset_index()"
   ]
  },
  {
   "cell_type": "code",
   "execution_count": 90,
   "metadata": {},
   "outputs": [],
   "source": [
    "df_ndc_most_freq_codes = df_ndc_freq[(df_ndc_freq['ROW_ID'] >= drug_occur_threshold) & (df_ndc_freq['NDC'] != \"0\")]\n",
    "# df_ndc_most_freq_codes"
   ]
  },
  {
   "cell_type": "code",
   "execution_count": 91,
   "metadata": {},
   "outputs": [],
   "source": [
    "most_freq_ndc_codes = df_ndc_most_freq_codes['NDC'].to_list()"
   ]
  },
  {
   "cell_type": "code",
   "execution_count": 92,
   "metadata": {},
   "outputs": [],
   "source": [
    "df_ndc_most_freq_meta = df[df['NDC'].isin(most_freq_ndc_codes)]\n",
    "# df_ndc_most_freq_meta"
   ]
  },
  {
   "cell_type": "code",
   "execution_count": 94,
   "metadata": {},
   "outputs": [
    {
     "name": "stdout",
     "output_type": "stream",
     "text": [
      "length:  8148\n"
     ]
    }
   ],
   "source": [
    "df_ndc_most_freq = df_ndc_most_freq_meta[['NDC','DRUG','DRUG_NAME_POE','DRUG_NAME_GENERIC']].drop_duplicates()\n",
    "\n",
    "df_ndc_most_freq['DRUG'].fillna(drug_unknown, inplace=True)\n",
    "df_ndc_most_freq['DRUG_NAME_POE'].fillna(drug_unknown, inplace=True)\n",
    "df_ndc_most_freq['DRUG_NAME_GENERIC'].fillna(drug_unknown, inplace=True)\n",
    "# df_ndc_most_freq\n",
    "print(\"length: \", len(df_ndc_most_freq))"
   ]
  },
  {
   "cell_type": "code",
   "execution_count": 95,
   "metadata": {},
   "outputs": [],
   "source": [
    "df_ndc_most_freq.to_csv(ndc_code_filename, sep=',', encoding='utf-8')"
   ]
  },
  {
   "cell_type": "code",
   "execution_count": null,
   "metadata": {},
   "outputs": [],
   "source": []
  },
  {
   "cell_type": "code",
   "execution_count": null,
   "metadata": {},
   "outputs": [],
   "source": []
  },
  {
   "cell_type": "code",
   "execution_count": null,
   "metadata": {},
   "outputs": [],
   "source": []
  }
 ],
 "metadata": {
  "interpreter": {
   "hash": "6231efa94fcc6965469f69099951888d2cda7161d9d213b37b7401168f91864c"
  },
  "kernelspec": {
   "display_name": "Python 3",
   "language": "python",
   "name": "python3"
  },
  "language_info": {
   "codemirror_mode": {
    "name": "ipython",
    "version": 3
   },
   "file_extension": ".py",
   "mimetype": "text/x-python",
   "name": "python",
   "nbconvert_exporter": "python",
   "pygments_lexer": "ipython3",
   "version": "3.6.2"
  }
 },
 "nbformat": 4,
 "nbformat_minor": 2
}
